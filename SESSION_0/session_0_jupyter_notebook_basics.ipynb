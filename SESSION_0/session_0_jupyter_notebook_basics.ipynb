{
 "cells": [
  {
   "cell_type": "markdown",
   "metadata": {},
   "source": [
    "# Jupyter Notebook basics"
   ]
  },
  {
   "cell_type": "markdown",
   "metadata": {},
   "source": [
    "The Jupyter Notebook is an interactive environment designed to hold runnable code, text, figures and equations. It is mostly used for progressive implementation of pipelines in the field of data science. We think that it is a neat tool for creating tutorials, guides and even lectures. Each cell in a Notebook document contains code that is run in a process called the Kernel, which can be interrupted and restarted anytime. The default Kernel is IPython, but other programming languages can be easily downloaded and installed."
   ]
  },
  {
   "cell_type": "markdown",
   "metadata": {},
   "source": [
    "To run the code written in a Notebook cell, you need to press `Shift + Enter` or the `Run` button above. If the cell is marked with `In []:` to the left, it means it was never run during the session. Otherwise, the braces will be filled with the ordinal command number of the session."
   ]
  },
  {
   "cell_type": "code",
   "execution_count": null,
   "metadata": {},
   "outputs": [],
   "source": [
    "from matplotlib import pyplot\n",
    "import seaborn\n",
    "import numpy\n",
    "\n",
    "seaborn.set()\n",
    "seaborn.set_style(\"white\")\n",
    "\n",
    "pyplot.rcParams[\"figure.figsize\"] = (20,5)"
   ]
  },
  {
   "cell_type": "markdown",
   "metadata": {},
   "source": [
    "The above cell will import a Python module called matplotlib, which is a two dimensional plotting library. It will also include seaborn, a prettifier of matplotlib plots, and numpy, a library for handling large, multi-dimensionall arrays and matrices. Run the next cell the same way."
   ]
  },
  {
   "cell_type": "code",
   "execution_count": null,
   "metadata": {},
   "outputs": [],
   "source": [
    "x = numpy.linspace(0, 3 * numpy.pi, 500)\n",
    "y = numpy.sin(x ** 2)"
   ]
  },
  {
   "cell_type": "markdown",
   "metadata": {},
   "source": [
    "With the cell above we have created two variables in the Python environment. Simply typing their names in a cell will print what is contained in them. For large outputs, you can click the area to the left of the output once to shrink/enlarge it, or double-click it to minimize it."
   ]
  },
  {
   "cell_type": "code",
   "execution_count": null,
   "metadata": {},
   "outputs": [],
   "source": [
    "y"
   ]
  },
  {
   "cell_type": "markdown",
   "metadata": {},
   "source": [
    "We created `x` and `y` to showcase how to plot in Python. Simply run the next cell which will create the graph `y(x)`."
   ]
  },
  {
   "cell_type": "code",
   "execution_count": null,
   "metadata": {},
   "outputs": [],
   "source": [
    "pyplot.plot(x, y)"
   ]
  },
  {
   "cell_type": "markdown",
   "metadata": {},
   "source": [
    "If we change the value of variable `y` and run the plot cell again, it will plot the new function. The state of all variable in the enviroment is not defined by the positional ordering of cells but by the execution order."
   ]
  },
  {
   "cell_type": "code",
   "execution_count": null,
   "metadata": {},
   "outputs": [],
   "source": [
    "y = numpy.cos(x ** 3)"
   ]
  },
  {
   "cell_type": "markdown",
   "metadata": {},
   "source": [
    "We can even run `bash` commands. All commands available directly from the terminal can be used here but need to be escaped with an exclamation mark `!`. To see the current directory type `!pwd`, and to see the content of the directory run `!ls`."
   ]
  },
  {
   "cell_type": "code",
   "execution_count": null,
   "metadata": {},
   "outputs": [],
   "source": [
    "!pwd"
   ]
  },
  {
   "cell_type": "code",
   "execution_count": null,
   "metadata": {},
   "outputs": [],
   "source": [
    "!ls"
   ]
  },
  {
   "cell_type": "markdown",
   "metadata": {},
   "source": [
    "The Jupyter Notebook files have the `ipynb` extension and are in [JSON](https://en.wikipedia.org/wiki/JSON) format. When opened in a text editor, each cell is a JSON entry accompanied with additional metadata. Run the command below to see for yourself."
   ]
  },
  {
   "cell_type": "code",
   "execution_count": null,
   "metadata": {},
   "outputs": [],
   "source": [
    "!cat jupyter_notebook_basics.ipynb"
   ]
  },
  {
   "cell_type": "markdown",
   "metadata": {},
   "source": [
    "To show an image inside the notebook you can use a [Markdown](https://en.wikipedia.org/wiki/Markdown) cell and use the following format `![figure_name](figure_path)`. Or you can use Python in a normal code cell. The following command depicts that (although it uses a url, you can display images by providing a path to them on your system)."
   ]
  },
  {
   "cell_type": "code",
   "execution_count": null,
   "metadata": {
    "scrolled": false
   },
   "outputs": [],
   "source": [
    "from IPython.display import Image\n",
    "Image(url = 'https://upload.wikimedia.org/wikipedia/commons/thumb/d/de/Physalia_physalis1.jpg/320px-Physalia_physalis1.jpg')\n"
   ]
  },
  {
   "cell_type": "markdown",
   "metadata": {},
   "source": [
    "If you want to clear the notebook (and reset the kernel), choose `Cell` on options bar, `All output` and `Clear`. To save all results for future use, press the save icon. To halt the kernel press on `File` and `Close and Halt`. Closing the browser tab will not halt the kernel."
   ]
  },
  {
   "cell_type": "markdown",
   "metadata": {},
   "source": [
    "This concludes the brief introduction to Jupyter Notebook needed for this course. Participants that want to know more should follow more advance and in-depth tutorials online."
   ]
  }
 ],
 "metadata": {
  "kernelspec": {
   "display_name": "Python 3 (ipykernel)",
   "language": "python",
   "name": "python3"
  },
  "language_info": {
   "codemirror_mode": {
    "name": "ipython",
    "version": 3
   },
   "file_extension": ".py",
   "mimetype": "text/x-python",
   "name": "python",
   "nbconvert_exporter": "python",
   "pygments_lexer": "ipython3",
   "version": "3.9.12"
  }
 },
 "nbformat": 4,
 "nbformat_minor": 4
}
