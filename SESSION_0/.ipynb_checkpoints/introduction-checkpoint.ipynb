{
 "cells": [
  {
   "cell_type": "markdown",
   "id": "bc4d4cc8",
   "metadata": {},
   "source": [
    "Ensamblaje del genoma mediante la secuenciación Oxford Nanopore"
   ]
  },
  {
   "cell_type": "markdown",
   "id": "be60f78b",
   "metadata": {},
   "source": [
    "Las nuevas tecnologías de secuenciación o NGS han abierto la puerta al secuenciamiento masivo de la vida con la posibilidad de secuenciar genomas complejos y contiguos gracias a lecturas muy grandes.\n",
    "Entre estas tecnologías, la secuenciación por nanopore se distingue por un coste muy reducido, pero también un retroceso en la precisión. Se ha desarrollado una amplia gama de algoritmos para analisar datos de nanopore y hacer frente a retroceso. "
   ]
  },
  {
   "cell_type": "markdown",
   "id": "d60ef07b",
   "metadata": {},
   "source": [
    "En este curso, vamos a apprender métodos y flujo de trabajo para analisar lecturas crudas y terminar con un ensemblaje de genoma.  Veremos cómo obtener secuencias de nucleótidos a partir de señales eléctricas, profundizaremos en el paradigma de ensamblaje más utilizado para fragmentos largos, probaremos y compararemos varios ensambladores de última generación y, finalmente, evaluaremos la calidad del ensamblaje obtenido con y sin genoma de referencia."
   ]
  },
  {
   "cell_type": "markdown",
   "id": "63952784",
   "metadata": {},
   "source": [
    "Objectivos del curso:\n",
    "-Conozca las ventajas e inconvenientes de la secuenciacion Nanopore\n",
    "-Conozca el ensamblaje de novo\n",
    "-Practicar y tener experiencia en ensamblage de genoma de novo"
   ]
  },
  {
   "cell_type": "markdown",
   "id": "160a7a05",
   "metadata": {},
   "source": [
    "Programa:\n",
    "sesion 0_\n",
    "Antes del inicio del curso, los estudiantes deben tener instalados los programas necesarios para el curso, principalmente Anaconda https://www.anaconda.com/products/distribution\n",
    "Los estudiantes deben estar familiarizados con el jupyter notebook https://jupyter-notebook.readthedocs.io/en/stable/examples/Notebook/Notebook%20Basics.html \n",
    "Probar jupyter notebook con este archivo: jupyter_notebook_basics.ipynb \n",
    "\n",
    "sesion 1_\n",
    "Este curso comienza con una introducción general a la secuenciación y el ensamblaje. Los asistentes se familiarizarán con la secuenciación Oxford Nanopore, su funcionamiento, sus ventajas y desventajas. Después, transformaremos un subconjunto de un conjunto de datos bacterianos, que contiene señales de corriente eléctrica, en un conjunto de secuencias de nucleótidos con una tasa de error superior a la de las generaciones anteriores de secuenciación.\n",
    "\n",
    "session 2_\n",
    "\n"
   ]
  }
 ],
 "metadata": {
  "kernelspec": {
   "display_name": "Python 3 (ipykernel)",
   "language": "python",
   "name": "python3"
  },
  "language_info": {
   "codemirror_mode": {
    "name": "ipython",
    "version": 3
   },
   "file_extension": ".py",
   "mimetype": "text/x-python",
   "name": "python",
   "nbconvert_exporter": "python",
   "pygments_lexer": "ipython3",
   "version": "3.9.12"
  }
 },
 "nbformat": 4,
 "nbformat_minor": 5
}
