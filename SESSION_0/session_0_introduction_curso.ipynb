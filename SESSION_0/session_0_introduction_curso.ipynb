{
 "cells": [
  {
   "cell_type": "markdown",
   "id": "aeef54d6",
   "metadata": {},
   "source": [
    "# Introduccion de Ensamblaje del genoma mediante la secuenciación Oxford Nanopore"
   ]
  },
  {
   "cell_type": "markdown",
   "id": "be60f78b",
   "metadata": {},
   "source": [
    "Las nuevas tecnologías de secuenciación o NGS han abierto la puerta al secuenciamiento masivo de la vida con la posibilidad de secuenciar genomas complejos y contiguos gracias a lecturas muy grandes.\n",
    "Entre estas tecnologías, la secuenciación por nanopore se distingue por un coste muy reducido, pero también un retroceso en la precisión. Se ha desarrollado una amplia gama de algoritmos para analizar datos de nanopore y hacer frente a retroceso. "
   ]
  },
  {
   "cell_type": "markdown",
   "id": "d60ef07b",
   "metadata": {},
   "source": [
    "En este curso, vamos a apprender métodos y flujo de trabajo para analizar lecturas crudas y terminar con un ensemblaje de genoma.  Veremos cómo obtener secuencias de nucleótidos a partir de señales eléctricas, profundizaremos en el paradigma de ensamblaje más utilizado para fragmentos largos, probaremos y compararemos varios ensambladores de última generación y, finalmente, evaluaremos la calidad del ensamblaje obtenido con y sin genoma de referencia."
   ]
  },
  {
   "cell_type": "markdown",
   "id": "63952784",
   "metadata": {},
   "source": [
    "Objectivos del curso:  \n",
    "-Conocer las ventajas e inconvenientes de la secuenciacion Nanopore  \n",
    "-Conocer el ensamblaje de novo  \n",
    "-Practicar y tener experiencia en ensamblage de genoma de novo  "
   ]
  },
  {
   "cell_type": "markdown",
   "id": "160a7a05",
   "metadata": {},
   "source": [
    "Programa:  \n",
    "`session_0`: \n",
    "Antes del inicio del curso, los estudiantes deben tener instalados los programas necesarios para el curso, principalmente Anaconda https://www.anaconda.com/products/distribution\n",
    "Los estudiantes deben estar familiarizados con el jupyter notebook https://jupyter-notebook.readthedocs.io/en/stable/examples/Notebook/Notebook%20Basics.html  \n",
    "`session_1`: Introduccion sobre Oxford Nanopore; Connocer el formato Fast5; Llamar las lecturas con Guppy.  \n",
    "`sesion_2`: Quality control of fastq reads; Mapping reads against a reference using Minimap2.   \n",
    "`session_3`: Genome assembly with Minimap2 and Miniasm; Flye and Raven.\n",
    "`session_4`: Polishing of genome assemblies; Racon; Medaka.  \n",
    "`session_5`: Quality of assembly; Quast; BUSCO\n"
   ]
  },
  {
   "cell_type": "markdown",
   "id": "5ca9a849",
   "metadata": {},
   "source": [
    "# Instalación conda"
   ]
  },
  {
   "cell_type": "code",
   "execution_count": null,
   "id": "edcac675",
   "metadata": {},
   "outputs": [],
   "source": [
    "Se de debe instalar algunas programas antes de iniciar el curso y Jupyter notebook"
   ]
  },
  {
   "cell_type": "markdown",
   "id": "2772929a",
   "metadata": {},
   "source": [
    "algunos programas informáticos para instalar en el curso:  \n",
    "• busco  \n",
    "• canu  \n",
    "• edlib  \n",
    "• flye  \n",
    "• miniasm  \n",
    "• minimap2  \n",
    "• mummer  \n",
    "• nanopolish  \n",
    "• quast  \n",
    "• racon  \n",
    "• raven-assembler  \n",
    "• jupyter  \n",
    "• seaborn  \n",
    "• gepard  \n",
    "• medaka  \n",
    "• nanoplot  (via pip)"
   ]
  },
  {
   "cell_type": "code",
   "execution_count": null,
   "id": "34854151",
   "metadata": {},
   "outputs": [],
   "source": [
    "En el terminal de Linux:"
   ]
  },
  {
   "cell_type": "code",
   "execution_count": null,
   "id": "b6f392b3",
   "metadata": {},
   "outputs": [],
   "source": [
    "!conda config --add channels bioconda\n",
    "!conda config --add channels conda-forge"
   ]
  },
  {
   "cell_type": "markdown",
   "id": "a4443ba3",
   "metadata": {},
   "source": [
    "Crear un ambiante: "
   ]
  },
  {
   "cell_type": "code",
   "execution_count": null,
   "id": "ed0fdedf",
   "metadata": {},
   "outputs": [],
   "source": [
    "!conda create -y -v --name curso"
   ]
  },
  {
   "cell_type": "markdown",
   "id": "34e1e9ce",
   "metadata": {},
   "source": [
    "Installar un paquete (minimap2) en el ambiante:"
   ]
  },
  {
   "cell_type": "code",
   "execution_count": null,
   "id": "337c7a40",
   "metadata": {},
   "outputs": [],
   "source": [
    "!conda install -y -v -n curso minimap2 "
   ]
  },
  {
   "cell_type": "markdown",
   "id": "7c207d61",
   "metadata": {},
   "source": [
    "Activar el paquete:"
   ]
  },
  {
   "cell_type": "code",
   "execution_count": null,
   "id": "170bbd04",
   "metadata": {},
   "outputs": [],
   "source": [
    "!conda activate minimap2"
   ]
  },
  {
   "cell_type": "markdown",
   "id": "0603ad9a",
   "metadata": {},
   "source": [
    "este curso utiliza partes del curso del IRD 2022 sobre Nanopore (Orjuela et al) y del curso de Physalia sobre Nanopore (https://www.physalia-courses.org). \n",
    "romain.guyot@ird.fr"
   ]
  }
 ],
 "metadata": {
  "kernelspec": {
   "display_name": "Python 3",
   "language": "python",
   "name": "python3"
  },
  "language_info": {
   "codemirror_mode": {
    "name": "ipython",
    "version": 3
   },
   "file_extension": ".py",
   "mimetype": "text/x-python",
   "name": "python",
   "nbconvert_exporter": "python",
   "pygments_lexer": "ipython3",
   "version": "3.8.8"
  }
 },
 "nbformat": 4,
 "nbformat_minor": 5
}
